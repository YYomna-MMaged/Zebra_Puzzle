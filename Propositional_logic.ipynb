{
 "cells": [
  {
   "cell_type": "code",
   "execution_count": 1,
   "metadata": {},
   "outputs": [],
   "source": [
    "# !pip install networkx\n",
    "# !pip install ipythonblocks"
   ]
  },
  {
   "cell_type": "code",
   "execution_count": 2,
   "metadata": {},
   "outputs": [],
   "source": [
    "from aima import logic\n",
    "from aima.logic import FolKB, fol_fc_ask, PropKB,dpll_satisfiable\n",
    "from aima import utils as ut\n",
    "from aima.logic import FolKB, pl_resolution, pl_fc_entails\n",
    "from aima.utils import expr,Expr"
   ]
  },
  {
   "cell_type": "code",
   "execution_count": 3,
   "metadata": {},
   "outputs": [],
   "source": [
    "kb = PropKB()"
   ]
  },
  {
   "cell_type": "markdown",
   "metadata": {},
   "source": [
    "1. Mummy Potter attends yoga classes on Mondays and Thursdays. (done)\n",
    "2. A person loving ice cream dreams of visiting Paris. \n",
    "3. Betty likes only marmalade. (done)\n",
    "4. Mummy eats only marshmallows. (done)\n",
    "5. The Potters have three money boxes for their dreams at their home: one for a trip to \n",
    "the sea, one for a ticket to the Swan Lake ballet, one for a new album for the collection \n",
    "of coins. (done)\n",
    "6. Aunt Polly has a sewing machine and a collection of sewing materials at home. She \n",
    "made a ballet suit for Betty for her classes. (done)\n",
    "7. Peter often goes fishing with his dad, but he quickly becomes bored of it and begins to \n",
    "walk down the shore looking for rare coins for his collection. (maybe done)\n",
    "8. Peter doesn’t like anything with cream. (done)\n",
    "9. Peter and Betty’s parents have made the same New Year wish both. (done)\n",
    "10. On holidays, Mummy prepares the family’s favorite desserts: Napoleon cake, \n",
    "marmalade, and waffles. (done)"
   ]
  },
  {
   "cell_type": "markdown",
   "metadata": {},
   "source": [
    "# Propositional Logic"
   ]
  },
  {
   "cell_type": "markdown",
   "metadata": {},
   "source": [
    "#### Facts"
   ]
  },
  {
   "cell_type": "code",
   "execution_count": 5,
   "metadata": {},
   "outputs": [],
   "source": [
    "# translate facts into propositional logic\n",
    "kb.tell(expr(\"MumYogaMonday & MumYogaThursday\")) \n",
    "# kb.tell(expr(\"MumYogaThursday\"))\n",
    "# kb.tell(expr(\"AnyLovesIceCream ==> DreamsVisitParis\"))\n",
    "kb.tell(expr(\"BettyMarmalade\"))\n",
    "kb.tell(expr(\"MumMarshmallows\"))\n",
    "# kb.tell(expr(\"TripMoneyBox\"))\n",
    "# kb.tell(expr(\"SwanLakeMoneyBox\"))\n",
    "# kb.tell(expr(\"CoinAlbumMoneyBox\"))\n",
    "kb.tell(expr(\"AuntPollySewingMachine\"))\n",
    "kb.tell(expr(\"AuntPollySewingMaterials\"))\n",
    "kb.tell(expr(\"BettyBalletSuit\"))\n",
    "kb.tell(expr(\"PeterCoinCollection\"))\n",
    "kb.tell(expr(\"~PeterCream\"))\n",
    "kb.tell(expr(\"DadNewYearWish\"))\n",
    "kb.tell(expr(\"MumNewYearWish\"))\n",
    "kb.tell(expr(\"MumDadSameWish\"))\n",
    "kb.tell(expr(\"FavNapoleon\"))\n",
    "# kb.tell(expr(\"FavMarmalade\"))\n",
    "kb.tell(expr(\"FavWaffles\"))"
   ]
  },
  {
   "cell_type": "markdown",
   "metadata": {},
   "source": [
    "#### Rules"
   ]
  },
  {
   "cell_type": "code",
   "execution_count": 6,
   "metadata": {},
   "outputs": [],
   "source": [
    "#hobby\n",
    "kb.tell(expr(\"DadHobbyFishing\"))\n",
    "kb.tell(expr(\"(MumYogaMonday & MumYogaThursday) ==> MumHobbyYoga\"))\n",
    "kb.tell(expr(\"BettyBalletSuit ==> BettyHobbyBallet\"))\n",
    "kb.tell(expr(\"PeterCoinCollection ==> PeterHobbyCollectingCoins\"))\n",
    "kb.tell(expr(\"(AuntPollySewingMachine & AuntPollySewingMaterials) ==> AuntPollyHobbySewing\"))\n",
    "\n",
    "#dessert\n",
    "kb.tell(expr(\"MumMarshmallows ==> MumLikesMarshmallows\"))\n",
    "kb.tell(expr(\"BettyMarmalade ==> BettyLikesMarmalade\"))\n",
    "kb.tell(expr(\"(FavWaffles & BettyLikesMarmalade & ~PeterCream) ==> PeterLikesWaffles\"))\n",
    "kb.tell(expr(\"(FavNapoleon & PeterLikesWaffles & BettyLikesMarmalade & MumLikesMarshmallows) ==> DadLikesNapoleon\"))\n",
    "kb.tell(expr(\"(DadLikesNapoleon & MumLikesMarshmallows & BettyLikesMarmalade & PeterLikesWaffles) ==> AuntPollyLikesIceCream\"))\n",
    "\n",
    "#dreams\n",
    "kb.tell(expr(\"(DadNewYearWish & DadHobbyFishing) ==> DadDreamSeaTrip\"))\n",
    "kb.tell(expr(\"(MumNewYearWish & MumDadSameWish & DadDreamSeaTrip) ==> MumDreamSeaTrip\"))\n",
    "kb.tell(expr(\"BettyHobbyBallet ==> BettyDreamSwanLake\"))\n",
    "kb.tell(expr(\"PeterHobbyCollectingCoins ==> PeterDreamCoinAlbum\"))\n",
    "kb.tell(expr(\"AuntPollyLikesIceCream ==> AuntPollyDreamVisitParis\"))"
   ]
  },
  {
   "cell_type": "code",
   "execution_count": 7,
   "metadata": {},
   "outputs": [
    {
     "data": {
      "text/plain": [
       "[MumYogaMonday,\n",
       " MumYogaThursday,\n",
       " BettyMarmalade,\n",
       " MumMarshmallows,\n",
       " AuntPollySewingMachine,\n",
       " AuntPollySewingMaterials,\n",
       " BettyBalletSuit,\n",
       " PeterCoinCollection,\n",
       " ~PeterCream,\n",
       " DadNewYearWish,\n",
       " MumNewYearWish,\n",
       " MumDadSameWish,\n",
       " FavNapoleon,\n",
       " FavWaffles,\n",
       " DadHobbyFishing,\n",
       " (MumHobbyYoga | ~MumYogaMonday | ~MumYogaThursday),\n",
       " (BettyHobbyBallet | ~BettyBalletSuit),\n",
       " (PeterHobbyCollectingCoins | ~PeterCoinCollection),\n",
       " (AuntPollyHobbySewing | ~AuntPollySewingMachine | ~AuntPollySewingMaterials),\n",
       " (MumLikesMarshmallows | ~MumMarshmallows),\n",
       " (BettyLikesMarmalade | ~BettyMarmalade),\n",
       " (PeterLikesWaffles | ~FavWaffles | ~BettyLikesMarmalade | PeterCream),\n",
       " (DadLikesNapoleon | ~FavNapoleon | ~PeterLikesWaffles | ~BettyLikesMarmalade | ~MumLikesMarshmallows),\n",
       " (AuntPollyLikesIceCream | ~DadLikesNapoleon | ~MumLikesMarshmallows | ~BettyLikesMarmalade | ~PeterLikesWaffles),\n",
       " (DadDreamSeaTrip | ~DadNewYearWish | ~DadHobbyFishing),\n",
       " (MumDreamSeaTrip | ~MumNewYearWish | ~MumDadSameWish | ~DadDreamSeaTrip),\n",
       " (BettyDreamSwanLake | ~BettyHobbyBallet),\n",
       " (PeterDreamCoinAlbum | ~PeterHobbyCollectingCoins),\n",
       " (AuntPollyDreamVisitParis | ~AuntPollyLikesIceCream)]"
      ]
     },
     "execution_count": 7,
     "metadata": {},
     "output_type": "execute_result"
    }
   ],
   "source": [
    "kb.clauses"
   ]
  },
  {
   "cell_type": "code",
   "execution_count": 8,
   "metadata": {},
   "outputs": [
    {
     "name": "stdout",
     "output_type": "stream",
     "text": [
      "{PeterDreamCoinAlbum: True, AuntPollyHobbySewing: True, AuntPollySewingMachine: True, AuntPollySewingMaterials: True, MumHobbyYoga: True, MumYogaMonday: True, MumYogaThursday: True, BettyDreamSwanLake: True, BettyHobbyBallet: True, BettyBalletSuit: True, PeterHobbyCollectingCoins: True, PeterCoinCollection: True, AuntPollyDreamVisitParis: True, AuntPollyLikesIceCream: True, DadLikesNapoleon: True, FavNapoleon: True, MumLikesMarshmallows: True, MumMarshmallows: True, MumDreamSeaTrip: True, DadDreamSeaTrip: True, DadNewYearWish: True, MumDadSameWish: True, DadHobbyFishing: True, PeterLikesWaffles: True, BettyLikesMarmalade: True, PeterCream: False, BettyMarmalade: True, FavWaffles: True, MumNewYearWish: True}\n"
     ]
    }
   ],
   "source": [
    "answer = dpll_satisfiable(Expr('&', *kb.clauses))\n",
    "print( answer)"
   ]
  },
  {
   "cell_type": "code",
   "execution_count": 9,
   "metadata": {},
   "outputs": [
    {
     "name": "stdout",
     "output_type": "stream",
     "text": [
      "DadLikesNapoleon True\n",
      "MumLikesNapoleon False\n",
      "PeterLikesNapoleon False\n",
      "BettyLikesNapoleon False\n",
      "AuntPollyLikesNapoleon False\n"
     ]
    }
   ],
   "source": [
    "Who_likes_the_Napoleon_cake = [\"DadLikesNapoleon\", \"MumLikesNapoleon\", \"PeterLikesNapoleon\", \"BettyLikesNapoleon\", \"AuntPollyLikesNapoleon\"]\n",
    "\n",
    "#loop over Who_likes_the_Napoleon_cake\n",
    "for i in Who_likes_the_Napoleon_cake:\n",
    "    x = expr(i)\n",
    "    answer = kb.ask_if_true(x)\n",
    "    print(i, answer)"
   ]
  },
  {
   "cell_type": "code",
   "execution_count": 10,
   "metadata": {},
   "outputs": [
    {
     "name": "stdout",
     "output_type": "stream",
     "text": [
      "DadLikesNapoleon True\n",
      "MumLikesNapoleon False\n",
      "PeterLikesNapoleon False\n",
      "BettyLikesNapoleon False\n",
      "AuntPollyLikesNapoleon False\n"
     ]
    }
   ],
   "source": [
    "Who_likes_the_Napoleon_cake = [\"DadLikesNapoleon\", \"MumLikesNapoleon\", \"PeterLikesNapoleon\", \"BettyLikesNapoleon\", \"AuntPollyLikesNapoleon\"]\n",
    "\n",
    "#loop over Who_likes_the_Napoleon_cake\n",
    "for i in Who_likes_the_Napoleon_cake:\n",
    "    x = expr(i)\n",
    "    answer = pl_resolution(kb, x)\n",
    "    print(i, answer)"
   ]
  },
  {
   "cell_type": "code",
   "execution_count": 11,
   "metadata": {},
   "outputs": [
    {
     "name": "stdout",
     "output_type": "stream",
     "text": [
      "DadDreamVisitParis False\n",
      "MumDreamVisitParis False\n",
      "PeterDreamVisitParis False\n",
      "BettyDreamVisitParis False\n",
      "AuntPollyDreamVisitParis True\n"
     ]
    }
   ],
   "source": [
    "who_dreams_of_going_to_Paris = [\"DadDreamVisitParis\", \"MumDreamVisitParis\", \"PeterDreamVisitParis\", \"BettyDreamVisitParis\", \"AuntPollyDreamVisitParis\"]\n",
    "\n",
    "#loop over who_dreams_of_going_to_Paris\n",
    "for i in who_dreams_of_going_to_Paris:\n",
    "    x = expr(i)\n",
    "    answer = pl_resolution(kb, x)\n",
    "    print(i, answer)\n"
   ]
  },
  {
   "cell_type": "code",
   "execution_count": 12,
   "metadata": {},
   "outputs": [
    {
     "name": "stdout",
     "output_type": "stream",
     "text": [
      "DadDreamSeaTrip True\n"
     ]
    }
   ],
   "source": [
    "x = expr(\"DadDreamSeaTrip\")\n",
    "answer = pl_resolution(kb, x)\n",
    "print(\"DadDreamSeaTrip\", answer)"
   ]
  },
  {
   "cell_type": "code",
   "execution_count": 13,
   "metadata": {},
   "outputs": [
    {
     "name": "stdout",
     "output_type": "stream",
     "text": [
      "BettyDreamSeaTrip False\n"
     ]
    }
   ],
   "source": [
    "x = expr(\"BettyDreamSeaTrip\")\n",
    "answer = pl_resolution(kb, x)\n",
    "print(\"BettyDreamSeaTrip\", answer)"
   ]
  }
 ],
 "metadata": {
  "kernelspec": {
   "display_name": "Python 3",
   "language": "python",
   "name": "python3"
  },
  "language_info": {
   "codemirror_mode": {
    "name": "ipython",
    "version": 3
   },
   "file_extension": ".py",
   "mimetype": "text/x-python",
   "name": "python",
   "nbconvert_exporter": "python",
   "pygments_lexer": "ipython3",
   "version": "3.13.0"
  }
 },
 "nbformat": 4,
 "nbformat_minor": 2
}
