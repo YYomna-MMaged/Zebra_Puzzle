{
 "cells": [
  {
   "cell_type": "code",
   "execution_count": 1,
   "metadata": {},
   "outputs": [],
   "source": [
    "from aima import logic\n",
    "from aima.logic import FolKB, fol_fc_ask, PropKB,dpll_satisfiable\n",
    "from aima import utils as ut\n",
    "from aima.logic import FolKB, pl_resolution, pl_fc_entails\n",
    "from aima.utils import expr,Expr"
   ]
  },
  {
   "cell_type": "markdown",
   "metadata": {},
   "source": [
    "# First Order Logic"
   ]
  },
  {
   "cell_type": "markdown",
   "metadata": {},
   "source": [
    "1. Mummy Potter attends yoga classes on Mondays and Thursdays. (done)\n",
    "2. A person loving ice cream dreams of visiting Paris. \n",
    "3. Betty likes only marmalade. (done)\n",
    "4. Mummy eats only marshmallows. (done)\n",
    "5. The Potters have three money boxes for their dreams at their home: one for a trip to \n",
    "the sea, one for a ticket to the Swan Lake ballet, one for a new album for the collection \n",
    "of coins. (done)\n",
    "6. Aunt Polly has a sewing machine and a collection of sewing materials at home. She \n",
    "made a ballet suit for Betty for her classes. (done)\n",
    "7. Peter often goes fishing with his dad, but he quickly becomes bored of it and begins to \n",
    "walk down the shore looking for rare coins for his collection. (maybe done)\n",
    "8. Peter doesn’t like anything with cream. (done)\n",
    "9. Peter and Betty’s parents have made the same New Year wish both. (done)\n",
    "10. On holidays, Mummy prepares the family’s favorite desserts: Napoleon cake, \n",
    "marmalade, and waffles. (done)"
   ]
  },
  {
   "cell_type": "code",
   "execution_count": 3,
   "metadata": {},
   "outputs": [],
   "source": [
    "clauses = [\n",
    "    'Potter(Mummy)',\n",
    "    'Potter(Daddy)',\n",
    "    'Potter(Peter)',\n",
    "    'Potter(Betty)',\n",
    "\n",
    "    'Hobby(Yoga)',\n",
    "    'Hobby(Sewing)',\n",
    "    'Hobby(Ballet)',\n",
    "    'Hobby(Fishing)',\n",
    "    'Hobby(CoinCollection)',\n",
    "\n",
    "    'HasHobby(Mummy, Yoga)',\n",
    "    'HasHobby(AuntPolly, Sewing)',\n",
    "    'HasHobby(Betty, Ballet)',\n",
    "    'HasHobby(Daddy, Fishing)',\n",
    "    \n",
    "    'GoesFishing(Peter, Daddy)',\n",
    "    'Potter(x) & GoesFishing(x, Daddy) ==> HasHobby(x, CoinCollection)',\n",
    "    'Potter(x) & HasHobby(x, CoinCollection) ==> DreamsOf(x, CoinCollection)',\n",
    "\n",
    "    'LikesDessert(x, IceCream) ==> DreamsOf(x, Paris)',\n",
    "    'LikesDessert(Betty, Marmalade)',\n",
    "    'LikesDessert(Mummy, Marshmallows)',\n",
    "\n",
    "    'Dream(SeaTrip)',\n",
    "    'Dream(SwanLakeBallet)',\n",
    "    'Dream(CoinCollection)',\n",
    "    \n",
    "    'Potter(x) & HasHobby(x, Ballet) ==> DreamsOf(x, SwanLakeBallet)',\n",
    "    'FamilyDessert(x) & HasCream(x) ==> DisLikesDessert(Peter, x)',\n",
    "    'Dream(x) & DreamsOf(Daddy, x) ==> DreamsOf(Mummy, x)',\n",
    "    'Potter(x) & HasHobby(x, Fishing) ==> DreamsOf(x, SeaTrip)',\n",
    "\n",
    "    'HasCream(NapoleonCake)',\n",
    "    'NoCream(Marmalade)',\n",
    "    'NoCream(Waffles)',\n",
    "    'NoCream(Marshmallows)',\n",
    "    'NoCream(IceCream)',\n",
    "    'FamilyDessert(NapoleonCake)',\n",
    "    'FamilyDessert(Marmalade)',\n",
    "    'FamilyDessert(Marshmallows)',\n",
    "    'FamilyDessert(Waffles)',\n",
    "    'NotFamilyDessert(IceCream)',\n",
    "\n",
    "    'NotFavoriteDessertForAnyone(NapoleonCake)',\n",
    "    'NotFavoriteDessertForAnyone(IceCream)',\n",
    "    'NotFavoriteDessertForAnyone(Waffles)',\n",
    "\n",
    "    'NotFamilyDessert(x) & NotFavoriteDessertForAnyone(x) ==> LikesDessert(AuntPolly, x)',\n",
    "\n",
    "    'FamilyDessert(x) & NotFavoriteDessertForAnyone(x) & NoCream(x) ==> LikesDessert(Peter, x)',\n",
    "\n",
    "    'FamilyDessert(x) & NotFavoriteDessertForAnyone(x) ==> LikesDessert(Daddy, x)',\n",
    "]"
   ]
  },
  {
   "cell_type": "code",
   "execution_count": 4,
   "metadata": {},
   "outputs": [],
   "source": [
    "first_order_KB = FolKB()\n",
    "for clause in clauses:\n",
    "    first_order_KB.tell(expr(clause))"
   ]
  },
  {
   "cell_type": "code",
   "execution_count": 5,
   "metadata": {},
   "outputs": [
    {
     "name": "stdout",
     "output_type": "stream",
     "text": [
      "Who likes Napoleon cake?\n",
      "{x: Daddy}\n",
      "\n",
      "Who dreams of going to Paris?\n",
      "{x: AuntPolly}\n"
     ]
    }
   ],
   "source": [
    "\n",
    "query1 = expr(\"LikesDessert(x, NapoleonCake)\")\n",
    "print(\"Who likes Napoleon cake?\")\n",
    "for ans in fol_fc_ask(first_order_KB, query1):\n",
    "    print(ans)\n",
    "\n",
    "\n",
    "query2 = expr(\"DreamsOf(x, Paris)\")\n",
    "print(\"\\nWho dreams of going to Paris?\")\n",
    "for ans in fol_fc_ask(first_order_KB, query2):\n",
    "    print(ans)"
   ]
  }
 ],
 "metadata": {
  "kernelspec": {
   "display_name": "Python 3",
   "language": "python",
   "name": "python3"
  },
  "language_info": {
   "codemirror_mode": {
    "name": "ipython",
    "version": 3
   },
   "file_extension": ".py",
   "mimetype": "text/x-python",
   "name": "python",
   "nbconvert_exporter": "python",
   "pygments_lexer": "ipython3",
   "version": "3.13.0"
  }
 },
 "nbformat": 4,
 "nbformat_minor": 2
}
